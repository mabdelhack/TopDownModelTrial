{
 "cells": [
  {
   "cell_type": "code",
   "execution_count": 1,
   "metadata": {
    "collapsed": false
   },
   "outputs": [
    {
     "data": {
      "application/javascript": [
       "IPython.notebook.set_autosave_interval(0)"
      ]
     },
     "metadata": {},
     "output_type": "display_data"
    },
    {
     "name": "stdout",
     "output_type": "stream",
     "text": [
      "Autosave disabled\n",
      "[name: \"/device:CPU:0\"\n",
      "device_type: \"CPU\"\n",
      "memory_limit: 268435456\n",
      "locality {\n",
      "}\n",
      "incarnation: 17769444430783920838\n",
      ", name: \"/device:GPU:0\"\n",
      "device_type: \"GPU\"\n",
      "memory_limit: 11296807322\n",
      "locality {\n",
      "  bus_id: 1\n",
      "  links {\n",
      "    link {\n",
      "      device_id: 1\n",
      "      type: \"StreamExecutor\"\n",
      "      strength: 1\n",
      "    }\n",
      "  }\n",
      "}\n",
      "incarnation: 356935698357528550\n",
      "physical_device_desc: \"device: 0, name: Tesla K80, pci bus id: 0000:06:00.0, compute capability: 3.7\"\n",
      ", name: \"/device:GPU:1\"\n",
      "device_type: \"GPU\"\n",
      "memory_limit: 11296745063\n",
      "locality {\n",
      "  bus_id: 1\n",
      "  links {\n",
      "    link {\n",
      "      type: \"StreamExecutor\"\n",
      "      strength: 1\n",
      "    }\n",
      "  }\n",
      "}\n",
      "incarnation: 13727951097512422291\n",
      "physical_device_desc: \"device: 1, name: Tesla K80, pci bus id: 0000:07:00.0, compute capability: 3.7\"\n",
      "]\n",
      "2.1.6\n"
     ]
    },
    {
     "name": "stderr",
     "output_type": "stream",
     "text": [
      "Using TensorFlow backend.\n"
     ]
    }
   ],
   "source": [
    "%autosave 0\n",
    "# %matplotlib inline\n",
    "%matplotlib notebook\n",
    "\n",
    "from __future__ import division, print_function\n",
    "import numpy as np\n",
    "from tensorflow.python.client import device_lib\n",
    "from keras import backend as K\n",
    "import tensorflow as tf\n",
    "import keras\n",
    "from keras.datasets import cifar10\n",
    "\n",
    "\n",
    "print(device_lib.list_local_devices())\n",
    "sess = tf.Session(config=tf.ConfigProto(log_device_placement=True))\n",
    "print(keras.__version__)"
   ]
  },
  {
   "cell_type": "code",
   "execution_count": 4,
   "metadata": {
    "collapsed": false
   },
   "outputs": [],
   "source": [
    "from keras.layers import Input, Dense, Conv2D, BatchNormalization, MaxPooling2D, Flatten, Add, Activation\n",
    "from keras.models import Model, load_model\n",
    "from keras import optimizers\n",
    "# from keras.utils import multi_gpu_model\n",
    "\n",
    "(x_train, y_train), (x_test, y_test) = cifar10.load_data()\n",
    "input_train_shape = x_train.shape[1:]\n",
    "\n",
    "n_out = 10\n",
    "n_fc1 = 256\n",
    "\n",
    "ff_model = load_model('cifar_feedforward_180711.h5');\n",
    "conv1_ffw = ff_model.get_layer('conv_1')\n",
    "conv2_ffw = ff_model.get_layer('conv_2')\n",
    "conv3_ffw = ff_model.get_layer('conv_3')\n",
    "conv4_ffw = ff_model.get_layer('conv_4')\n",
    "fc5_ffw = ff_model.get_layer('fc_5')\n",
    "fc6_ffw = ff_model.get_layer('fc_6')\n",
    "fc7_ffw = ff_model.get_layer('fc_7')\n",
    "\n",
    "input_layer = Input(shape=(input_train_shape), name='input')\n",
    "conv1_ff1 = Conv2D(64, (3,3), strides=(1,1), padding='same', activation='relu', name='conv_ff1', trainable=False, weights=conv1_ffw.get_weights())(input_layer)\n",
    "bn1 = BatchNormalization(axis=-1, momentum=0.99, epsilon=0.001, name='bn_11')(conv1_ff1)\n",
    "pool1 = MaxPooling2D(pool_size=(2,2), padding='valid', name='pool_11')(bn1)\n",
    "conv2_ff1 = Conv2D(128, (3,3), strides=(1,1), padding='same', activation='relu', name='conv_ff21', trainable=False, weights=conv2_ffw.get_weights())(pool1)\n",
    "bn2 = BatchNormalization(axis=-1, momentum=0.99, epsilon=0.001, name='bn_21')(conv2_ff1)\n",
    "pool2 = MaxPooling2D(pool_size=(2,2), padding='valid', name='pool_2')(bn2)\n",
    "conv3_ff1 = Conv2D(256, (3,3), strides=(1,1), padding='same', activation='relu', name='conv_ff31', trainable=False, weights=conv3_ffw.get_weights())(pool2)\n",
    "bn3 = BatchNormalization(axis=-1, momentum=0.99, epsilon=0.001, name='bn_31')(conv3_ff1)\n",
    "pool3 = MaxPooling2D(pool_size=(2,2), padding='valid', name='pool31')(bn3)\n",
    "conv4_ff1 = Conv2D(1024, (4,4), strides=(1,1), padding='valid', activation='relu', name='conv_ff41', trainable=False, weights=conv4_ffw.get_weights())(pool3)\n",
    "bn4 = BatchNormalization(axis=-1, momentum=0.99, epsilon=0.001, name='bn_41')(conv4_ff1)\n",
    "flat1 = Flatten(name='flat_11')(bn4)\n",
    "fc5_ff1 = Dense(1024, activation='relu', name='fc_ff51', trainable=False, weights=fc5_ffw.get_weights())(flat1)\n",
    "bn5 = BatchNormalization(axis=-1, momentum=0.99, epsilon=0.001, name='bn_51')(fc5_ff1)\n",
    "fc6_ff1 = Dense(256, activation='relu', name='fc_ff61', trainable=False, weights=fc6_ffw.get_weights())(bn5)\n",
    "bn6 = BatchNormalization(axis=-1, momentum=0.99, epsilon=0.001, name='bn_61')(fc6_ff1)\n",
    "fc7_ff1 = Dense(10, activation='linear', name='fc_ff71', trainable=False, weights=fc7_ffw.get_weights())(bn6)\n",
    "\n",
    "conv1_rc1 = Conv2D(64, (3,3), strides=(1,1), padding='same', activation='relu', name='conv_rc1', trainable=True)(conv1_ff1)\n",
    "conv1_mrg1 = Add()([conv1_ff1, conv1_rc1])\n",
    "bn1 = BatchNormalization(axis=-1, momentum=0.99, epsilon=0.001, name='bn_12')(conv1_mrg1)\n",
    "pool1 = MaxPooling2D(pool_size=(2,2), padding='valid', name='pool_12')(bn1)\n",
    "conv2_ff2 = Conv2D(128, (3,3), strides=(1,1), padding='same', activation='relu', name='conv_ff22', trainable=False, weights=conv2_ffw.get_weights())(pool1)\n",
    "conv2_rc1 = Conv2D(128, (3,3), strides=(1,1), padding='same', activation='relu', name='conv_rc2', trainable=True)(conv2_ff1)\n",
    "conv2_mrg1 = Add()([conv2_ff2, conv2_rc1])\n",
    "bn2 = BatchNormalization(axis=-1, momentum=0.99, epsilon=0.001, name='bn_22')(conv2_mrg1)\n",
    "pool2 = MaxPooling2D(pool_size=(2,2), padding='valid', name='pool_22')(bn2)\n",
    "conv3_ff2 = Conv2D(256, (3,3), strides=(1,1), padding='same', activation='relu', name='conv_ff32', trainable=False, weights=conv3_ffw.get_weights())(pool2)\n",
    "conv3_rc1 = Conv2D(256, (3,3), strides=(1,1), padding='same', activation='relu', name='conv_rc3', trainable=True)(conv3_ff1)\n",
    "conv3_mrg1 = Add()([conv3_ff2, conv3_rc1])\n",
    "bn3 = BatchNormalization(axis=-1, momentum=0.99, epsilon=0.001, name='bn_32')(conv3_mrg1)\n",
    "pool3 = MaxPooling2D(pool_size=(2,2), padding='valid', name='pool32')(bn3)\n",
    "conv4_ff2 = Conv2D(1024, (4,4), strides=(1,1), padding='valid', activation='relu', name='conv_ff42', trainable=False, weights=conv4_ffw.get_weights())(pool3)\n",
    "conv4_rc1 = Conv2D(1024, (1,1), strides=(1,1), padding='valid', activation='relu', name='conv_rc4', trainable=True)(conv4_ff1)\n",
    "conv4_mrg1 = Add()([conv4_ff2, conv4_rc1])\n",
    "bn4 = BatchNormalization(axis=-1, momentum=0.99, epsilon=0.001, name='bn_42')(conv4_mrg1)\n",
    "flat1 = Flatten(name='flat_12')(bn4)\n",
    "fc5_ff2 = Dense(1024, activation='relu', name='fc_ff52', trainable=False, weights=fc5_ffw.get_weights())(flat1)\n",
    "fc5_rc1 = Dense(1024, activation='relu', name='fc_rc5', trainable=True)(fc5_ff1)\n",
    "fc5_mrg1 = Add()([fc5_ff2, fc5_rc1])\n",
    "bn5 = BatchNormalization(axis=-1, momentum=0.99, epsilon=0.001, name='bn_52')(fc5_mrg1)\n",
    "fc6_ff2 = Dense(256, activation='relu', name='fc_ff62', trainable=False, weights=fc6_ffw.get_weights())(bn5)\n",
    "fc6_rc1 = Dense(256, activation='relu', name='fc_rc6', trainable=True)(fc6_ff1)\n",
    "fc6_mrg1 = Add()([fc6_ff2, fc6_rc1])\n",
    "bn6 = BatchNormalization(axis=-1, momentum=0.99, epsilon=0.001, name='bn_62')(fc6_mrg1)\n",
    "fc7_ff2 = Dense(10, activation='linear', name='fc_ff72', trainable=False, weights=fc7_ffw.get_weights())(bn6)\n",
    "fc7_rc1 = Dense(10, activation='linear', name='fc_rc7', trainable=True)(fc7_ff1)\n",
    "fc7_mrg1 = Add()([fc7_ff2, fc7_rc1])\n",
    "output_layer = Activation('softmax')(fc7_mrg1)\n"
   ]
  },
  {
   "cell_type": "code",
   "execution_count": 5,
   "metadata": {
    "collapsed": false
   },
   "outputs": [
    {
     "name": "stdout",
     "output_type": "stream",
     "text": [
      "__________________________________________________________________________________________________\n",
      "Layer (type)                    Output Shape         Param #     Connected to                     \n",
      "==================================================================================================\n",
      "input (InputLayer)              (None, 32, 32, 3)    0                                            \n",
      "__________________________________________________________________________________________________\n",
      "conv_ff1 (Conv2D)               (None, 32, 32, 64)   1792        input[0][0]                      \n",
      "__________________________________________________________________________________________________\n",
      "conv_rc1 (Conv2D)               (None, 32, 32, 64)   36928       conv_ff1[0][0]                   \n",
      "__________________________________________________________________________________________________\n",
      "add_8 (Add)                     (None, 32, 32, 64)   0           conv_ff1[0][0]                   \n",
      "                                                                 conv_rc1[0][0]                   \n",
      "__________________________________________________________________________________________________\n",
      "bn_11 (BatchNormalization)      (None, 32, 32, 64)   256         conv_ff1[0][0]                   \n",
      "__________________________________________________________________________________________________\n",
      "bn_12 (BatchNormalization)      (None, 32, 32, 64)   256         add_8[0][0]                      \n",
      "__________________________________________________________________________________________________\n",
      "pool_11 (MaxPooling2D)          (None, 16, 16, 64)   0           bn_11[0][0]                      \n",
      "__________________________________________________________________________________________________\n",
      "pool_12 (MaxPooling2D)          (None, 16, 16, 64)   0           bn_12[0][0]                      \n",
      "__________________________________________________________________________________________________\n",
      "conv_ff21 (Conv2D)              (None, 16, 16, 128)  73856       pool_11[0][0]                    \n",
      "__________________________________________________________________________________________________\n",
      "conv_ff22 (Conv2D)              (None, 16, 16, 128)  73856       pool_12[0][0]                    \n",
      "__________________________________________________________________________________________________\n",
      "conv_rc2 (Conv2D)               (None, 16, 16, 128)  147584      conv_ff21[0][0]                  \n",
      "__________________________________________________________________________________________________\n",
      "add_9 (Add)                     (None, 16, 16, 128)  0           conv_ff22[0][0]                  \n",
      "                                                                 conv_rc2[0][0]                   \n",
      "__________________________________________________________________________________________________\n",
      "bn_21 (BatchNormalization)      (None, 16, 16, 128)  512         conv_ff21[0][0]                  \n",
      "__________________________________________________________________________________________________\n",
      "bn_22 (BatchNormalization)      (None, 16, 16, 128)  512         add_9[0][0]                      \n",
      "__________________________________________________________________________________________________\n",
      "pool_2 (MaxPooling2D)           (None, 8, 8, 128)    0           bn_21[0][0]                      \n",
      "__________________________________________________________________________________________________\n",
      "pool_22 (MaxPooling2D)          (None, 8, 8, 128)    0           bn_22[0][0]                      \n",
      "__________________________________________________________________________________________________\n",
      "conv_ff31 (Conv2D)              (None, 8, 8, 256)    295168      pool_2[0][0]                     \n",
      "__________________________________________________________________________________________________\n",
      "conv_ff32 (Conv2D)              (None, 8, 8, 256)    295168      pool_22[0][0]                    \n",
      "__________________________________________________________________________________________________\n",
      "conv_rc3 (Conv2D)               (None, 8, 8, 256)    590080      conv_ff31[0][0]                  \n",
      "__________________________________________________________________________________________________\n",
      "add_10 (Add)                    (None, 8, 8, 256)    0           conv_ff32[0][0]                  \n",
      "                                                                 conv_rc3[0][0]                   \n",
      "__________________________________________________________________________________________________\n",
      "bn_31 (BatchNormalization)      (None, 8, 8, 256)    1024        conv_ff31[0][0]                  \n",
      "__________________________________________________________________________________________________\n",
      "bn_32 (BatchNormalization)      (None, 8, 8, 256)    1024        add_10[0][0]                     \n",
      "__________________________________________________________________________________________________\n",
      "pool31 (MaxPooling2D)           (None, 4, 4, 256)    0           bn_31[0][0]                      \n",
      "__________________________________________________________________________________________________\n",
      "pool32 (MaxPooling2D)           (None, 4, 4, 256)    0           bn_32[0][0]                      \n",
      "__________________________________________________________________________________________________\n",
      "conv_ff41 (Conv2D)              (None, 1, 1, 1024)   4195328     pool31[0][0]                     \n",
      "__________________________________________________________________________________________________\n",
      "conv_ff42 (Conv2D)              (None, 1, 1, 1024)   4195328     pool32[0][0]                     \n",
      "__________________________________________________________________________________________________\n",
      "conv_rc4 (Conv2D)               (None, 1, 1, 1024)   1049600     conv_ff41[0][0]                  \n",
      "__________________________________________________________________________________________________\n",
      "add_11 (Add)                    (None, 1, 1, 1024)   0           conv_ff42[0][0]                  \n",
      "                                                                 conv_rc4[0][0]                   \n",
      "__________________________________________________________________________________________________\n",
      "bn_41 (BatchNormalization)      (None, 1, 1, 1024)   4096        conv_ff41[0][0]                  \n",
      "__________________________________________________________________________________________________\n",
      "bn_42 (BatchNormalization)      (None, 1, 1, 1024)   4096        add_11[0][0]                     \n",
      "__________________________________________________________________________________________________\n",
      "flat_11 (Flatten)               (None, 1024)         0           bn_41[0][0]                      \n",
      "__________________________________________________________________________________________________\n",
      "flat_12 (Flatten)               (None, 1024)         0           bn_42[0][0]                      \n",
      "__________________________________________________________________________________________________\n",
      "fc_ff51 (Dense)                 (None, 1024)         1049600     flat_11[0][0]                    \n",
      "__________________________________________________________________________________________________\n",
      "fc_ff52 (Dense)                 (None, 1024)         1049600     flat_12[0][0]                    \n",
      "__________________________________________________________________________________________________\n",
      "fc_rc5 (Dense)                  (None, 1024)         1049600     fc_ff51[0][0]                    \n",
      "__________________________________________________________________________________________________\n",
      "add_12 (Add)                    (None, 1024)         0           fc_ff52[0][0]                    \n",
      "                                                                 fc_rc5[0][0]                     \n",
      "__________________________________________________________________________________________________\n",
      "bn_51 (BatchNormalization)      (None, 1024)         4096        fc_ff51[0][0]                    \n",
      "__________________________________________________________________________________________________\n",
      "bn_52 (BatchNormalization)      (None, 1024)         4096        add_12[0][0]                     \n",
      "__________________________________________________________________________________________________\n",
      "fc_ff61 (Dense)                 (None, 256)          262400      bn_51[0][0]                      \n",
      "__________________________________________________________________________________________________\n",
      "fc_ff62 (Dense)                 (None, 256)          262400      bn_52[0][0]                      \n",
      "__________________________________________________________________________________________________\n",
      "fc_rc6 (Dense)                  (None, 256)          65792       fc_ff61[0][0]                    \n",
      "__________________________________________________________________________________________________\n",
      "add_13 (Add)                    (None, 256)          0           fc_ff62[0][0]                    \n",
      "                                                                 fc_rc6[0][0]                     \n",
      "__________________________________________________________________________________________________\n",
      "bn_61 (BatchNormalization)      (None, 256)          1024        fc_ff61[0][0]                    \n",
      "__________________________________________________________________________________________________\n",
      "bn_62 (BatchNormalization)      (None, 256)          1024        add_13[0][0]                     \n",
      "__________________________________________________________________________________________________\n",
      "fc_ff71 (Dense)                 (None, 10)           2570        bn_61[0][0]                      \n",
      "__________________________________________________________________________________________________\n",
      "fc_ff72 (Dense)                 (None, 10)           2570        bn_62[0][0]                      \n",
      "__________________________________________________________________________________________________\n",
      "fc_rc7 (Dense)                  (None, 10)           110         fc_ff71[0][0]                    \n",
      "__________________________________________________________________________________________________\n",
      "add_14 (Add)                    (None, 10)           0           fc_ff72[0][0]                    \n",
      "                                                                 fc_rc7[0][0]                     \n",
      "__________________________________________________________________________________________________\n",
      "activation_2 (Activation)       (None, 10)           0           add_14[0][0]                     \n",
      "==================================================================================================\n",
      "Total params: 14,721,346\n",
      "Trainable params: 2,950,702\n",
      "Non-trainable params: 11,770,644\n",
      "__________________________________________________________________________________________________\n"
     ]
    }
   ],
   "source": [
    "sgd = optimizers.SGD(lr=2, decay=1e-6, momentum=0.9)\n",
    "model = Model(input_layer, output_layer)\n",
    "# pmodel = multi_gpu_model(model)\n",
    "model.compile(loss='categorical_crossentropy', optimizer='sgd', metrics=['accuracy'])\n",
    "model.summary()"
   ]
  },
  {
   "cell_type": "code",
   "execution_count": 6,
   "metadata": {
    "collapsed": false
   },
   "outputs": [
    {
     "name": "stdout",
     "output_type": "stream",
     "text": [
      "(50000, 32, 32, 3)\n",
      "(50000, 1)\n",
      "min: 0.0\n",
      "max: 1.0\n"
     ]
    }
   ],
   "source": [
    "print (x_train.shape)\n",
    "print (y_train.shape)\n",
    "\n",
    "# scale intensities between 0 and 1\n",
    "x_train = x_train.astype('float32') / 255.\n",
    "x_test = x_test.astype('float32') / 255.\n",
    "\n",
    "print('min:', x_train[0].min())\n",
    "print('max:', x_train[0].max())\n"
   ]
  },
  {
   "cell_type": "code",
   "execution_count": 7,
   "metadata": {
    "collapsed": false
   },
   "outputs": [
    {
     "name": "stdout",
     "output_type": "stream",
     "text": [
      "Epoch 1/5\n",
      "50000/50000 [==============================] - 354s 7ms/step - loss: 1.1160 - acc: 0.6378\n",
      "Epoch 2/5\n",
      "50000/50000 [==============================] - 352s 7ms/step - loss: 0.9795 - acc: 0.6711\n",
      "Epoch 3/5\n",
      "50000/50000 [==============================] - 352s 7ms/step - loss: 0.9489 - acc: 0.6843\n",
      "Epoch 4/5\n",
      "50000/50000 [==============================] - 352s 7ms/step - loss: 0.9103 - acc: 0.6936\n",
      "Epoch 5/5\n",
      "50000/50000 [==============================] - 352s 7ms/step - loss: 0.8886 - acc: 0.7013\n",
      "\n",
      "[Train parameters]\n",
      "metrics: ['loss', 'acc']\n",
      "samples: 50000\n",
      "batch_size: 4\n",
      "epochs: 5\n",
      "steps: None\n",
      "do_validation: False\n",
      "verbose: 1\n",
      "\n",
      "[Model evaluation]\n",
      "test loss 1.1284\n",
      "test acc 0.6342\n"
     ]
    }
   ],
   "source": [
    "n_epochs = 5\n",
    "n_batch_size = 4\n",
    "labels_train = keras.utils.to_categorical(y_train, n_out)\n",
    "labels_test = keras.utils.to_categorical(y_test, n_out)\n",
    "\n",
    "\n",
    "history = model.fit(x_train, labels_train,\n",
    "                    epochs=n_epochs,\n",
    "                    batch_size=n_batch_size)\n",
    "\n",
    "evaluation = model.evaluate(x_test, labels_test, verbose=0)\n",
    "\n",
    "print('\\n[Train parameters]')\n",
    "for item in history.params:\n",
    "    print(item+':', history.params[item])\n",
    "    \n",
    "print('\\n[Model evaluation]')\n",
    "print('test', history.params['metrics'][0], format(np.mean(evaluation[0]), '.4f'))\n",
    "print('test', history.params['metrics'][1], format(np.mean(evaluation[1]), '.4f'))"
   ]
  },
  {
   "cell_type": "code",
   "execution_count": 8,
   "metadata": {
    "collapsed": true
   },
   "outputs": [],
   "source": [
    "model.save('cifar_recurrentsimple_180713.h5')"
   ]
  },
  {
   "cell_type": "code",
   "execution_count": 7,
   "metadata": {
    "collapsed": false
   },
   "outputs": [
    {
     "ename": "TypeError",
     "evalue": "object of type 'int' has no len()",
     "output_type": "error",
     "traceback": [
      "\u001b[1;31m---------------------------------------------------------------------------\u001b[0m",
      "\u001b[1;31mTypeError\u001b[0m                                 Traceback (most recent call last)",
      "\u001b[1;32m<ipython-input-7-ca4394c1d0b0>\u001b[0m in \u001b[0;36m<module>\u001b[1;34m()\u001b[0m\n\u001b[1;32m----> 1\u001b[1;33m \u001b[0mconv1_ffw\u001b[0m\u001b[1;33m.\u001b[0m\u001b[0mset_weights\u001b[0m\u001b[1;33m(\u001b[0m\u001b[1;36m1\u001b[0m\u001b[1;33m)\u001b[0m\u001b[1;33m\u001b[0m\u001b[0m\n\u001b[0m",
      "\u001b[1;32m/home/python/2.7/lib/python2.7/site-packages/keras/engine/topology.pyc\u001b[0m in \u001b[0;36mset_weights\u001b[1;34m(self, weights)\u001b[0m\n\u001b[0;32m   1170\u001b[0m         \"\"\"\n\u001b[0;32m   1171\u001b[0m         \u001b[0mparams\u001b[0m \u001b[1;33m=\u001b[0m \u001b[0mself\u001b[0m\u001b[1;33m.\u001b[0m\u001b[0mweights\u001b[0m\u001b[1;33m\u001b[0m\u001b[0m\n\u001b[1;32m-> 1172\u001b[1;33m         \u001b[1;32mif\u001b[0m \u001b[0mlen\u001b[0m\u001b[1;33m(\u001b[0m\u001b[0mparams\u001b[0m\u001b[1;33m)\u001b[0m \u001b[1;33m!=\u001b[0m \u001b[0mlen\u001b[0m\u001b[1;33m(\u001b[0m\u001b[0mweights\u001b[0m\u001b[1;33m)\u001b[0m\u001b[1;33m:\u001b[0m\u001b[1;33m\u001b[0m\u001b[0m\n\u001b[0m\u001b[0;32m   1173\u001b[0m             raise ValueError('You called `set_weights(weights)` on layer \"' +\n\u001b[0;32m   1174\u001b[0m                              \u001b[0mself\u001b[0m\u001b[1;33m.\u001b[0m\u001b[0mname\u001b[0m \u001b[1;33m+\u001b[0m\u001b[1;33m\u001b[0m\u001b[0m\n",
      "\u001b[1;31mTypeError\u001b[0m: object of type 'int' has no len()"
     ]
    }
   ],
   "source": [
    "# Playground\n",
    "conv1_ffw.set_weights(1)"
   ]
  },
  {
   "cell_type": "code",
   "execution_count": null,
   "metadata": {
    "collapsed": true
   },
   "outputs": [],
   "source": []
  }
 ],
 "metadata": {
  "kernelspec": {
   "display_name": "Python 2",
   "language": "python",
   "name": "python2"
  },
  "language_info": {
   "codemirror_mode": {
    "name": "ipython",
    "version": 2
   },
   "file_extension": ".py",
   "mimetype": "text/x-python",
   "name": "python",
   "nbconvert_exporter": "python",
   "pygments_lexer": "ipython2",
   "version": "2.7.12"
  }
 },
 "nbformat": 4,
 "nbformat_minor": 0
}
