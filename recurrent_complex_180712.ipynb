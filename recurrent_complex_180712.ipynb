{
 "cells": [
  {
   "cell_type": "code",
   "execution_count": 2,
   "metadata": {},
   "outputs": [
    {
     "data": {
      "application/javascript": [
       "IPython.notebook.set_autosave_interval(0)"
      ]
     },
     "metadata": {},
     "output_type": "display_data"
    },
    {
     "name": "stdout",
     "output_type": "stream",
     "text": [
      "Autosave disabled\n",
      "[name: \"/cpu:0\"\n",
      "device_type: \"CPU\"\n",
      "memory_limit: 268435456\n",
      "locality {\n",
      "}\n",
      "incarnation: 8922926907652105629\n",
      ", name: \"/gpu:0\"\n",
      "device_type: \"GPU\"\n",
      "memory_limit: 11332668621\n",
      "locality {\n",
      "  bus_id: 1\n",
      "}\n",
      "incarnation: 11553048389818214341\n",
      "physical_device_desc: \"device: 0, name: Tesla K80, pci bus id: 0000:06:00.0\"\n",
      ", name: \"/gpu:1\"\n",
      "device_type: \"GPU\"\n",
      "memory_limit: 11330614068\n",
      "locality {\n",
      "  bus_id: 1\n",
      "}\n",
      "incarnation: 6262823173465881690\n",
      "physical_device_desc: \"device: 1, name: Tesla K80, pci bus id: 0000:07:00.0\"\n",
      "]\n",
      "2.0.5\n"
     ]
    }
   ],
   "source": [
    "%autosave 0\n",
    "# %matplotlib inline\n",
    "%matplotlib notebook\n",
    "\n",
    "from __future__ import division, print_function\n",
    "import numpy as np\n",
    "from tensorflow.python.client import device_lib\n",
    "from keras import backend as K\n",
    "import tensorflow as tf\n",
    "import keras\n",
    "from keras.datasets import cifar10\n",
    "\n",
    "\n",
    "print(device_lib.list_local_devices())\n",
    "sess = tf.Session(config=tf.ConfigProto(log_device_placement=True))\n",
    "print(keras.__version__)"
   ]
  },
  {
   "cell_type": "code",
   "execution_count": 24,
   "metadata": {},
   "outputs": [],
   "source": [
    "from keras.layers import Input, Dense, Conv2D, BatchNormalization, MaxPooling2D, Flatten, Add, Activation\n",
    "from keras.models import Model, load_model\n",
    "from keras import optimizers\n",
    "# from keras.utils import multi_gpu_model\n",
    "\n",
    "(x_train, y_train), (x_test, y_test) = cifar10.load_data()\n",
    "input_train_shape = x_train.shape[1:]\n",
    "\n",
    "n_out = 10\n",
    "n_fc1 = 256\n",
    "\n",
    "ff_model = load_model('cifar_feedforward_180711.h5');\n",
    "conv1_ffw = ff_model.get_layer('conv_1')\n",
    "conv2_ffw = ff_model.get_layer('conv_2')\n",
    "conv3_ffw = ff_model.get_layer('conv_3')\n",
    "conv4_ffw = ff_model.get_layer('conv_4')\n",
    "fc5_ffw = ff_model.get_layer('fc_5')\n",
    "fc6_ffw = ff_model.get_layer('fc_6')\n",
    "fc7_ffw = ff_model.get_layer('fc_7')\n",
    "\n",
    "input_layer = Input(shape=(input_train_shape), name='input')\n",
    "conv1_ff1 = Conv2D(64, (3,3), strides=(1,1), padding='same', activation='relu', name='conv_ff1', trainable=False, weights=conv1_ffw.get_weights())(input_layer)\n",
    "conv1_rc1 = Conv2D(64, (3,3), strides=(1,1), padding='same', activation='relu', name='conv_rc1', trainable=True)(conv1_ff1)\n",
    "conv1_mrg1 = Add()([conv1_ff1, conv1_rc1])\n",
    "bn1 = BatchNormalization(axis=-1, momentum=0.99, epsilon=0.001, name='bn_1')(conv1_mrg1)\n",
    "pool1 = MaxPooling2D(pool_size=(2,2), padding='valid', name='pool_1')(bn1)\n",
    "conv2_ff1 = Conv2D(128, (3,3), strides=(1,1), padding='same', activation='relu', name='conv_ff2', trainable=False, weights=conv2_ffw.get_weights())(pool1)\n",
    "conv2_rc1 = Conv2D(128, (3,3), strides=(1,1), padding='same', activation='relu', name='conv_rc2', trainable=True)(conv2_ff1)\n",
    "conv2_mrg1 = Add()([conv2_ff1, conv2_rc1])\n",
    "bn2 = BatchNormalization(axis=-1, momentum=0.99, epsilon=0.001, name='bn_2')(conv2_mrg1)\n",
    "pool2 = MaxPooling2D(pool_size=(2,2), padding='valid', name='pool_2')(bn2)\n",
    "conv3_ff1 = Conv2D(256, (3,3), strides=(1,1), padding='same', activation='relu', name='conv_ff3', trainable=False, weights=conv3_ffw.get_weights())(pool2)\n",
    "conv3_rc1 = Conv2D(256, (3,3), strides=(1,1), padding='same', activation='relu', name='conv_rc3', trainable=True)(conv3_ff1)\n",
    "conv3_mrg1 = Add()([conv3_ff1, conv3_rc1])\n",
    "bn3 = BatchNormalization(axis=-1, momentum=0.99, epsilon=0.001, name='bn_3')(conv3_mrg1)\n",
    "pool3 = MaxPooling2D(pool_size=(2,2), padding='valid', name='pool3')(bn3)\n",
    "conv4_ff1 = Conv2D(1024, (4,4), strides=(1,1), padding='valid', activation='relu', name='conv_ff4', trainable=False, weights=conv4_ffw.get_weights())(pool3)\n",
    "conv4_rc1 = Conv2D(1024, (1,1), strides=(1,1), padding='valid', activation='relu', name='conv_rc4', trainable=True)(conv4_ff1)\n",
    "conv4_mrg1 = Add()([conv4_ff1, conv4_rc1])\n",
    "bn4 = BatchNormalization(axis=-1, momentum=0.99, epsilon=0.001, name='bn_4')(conv4_mrg1)\n",
    "flat1 = Flatten(name='flat_1')(bn4)\n",
    "fc5_ff1 = Dense(1024, activation='relu', name='fc_ff5', trainable=False, weights=fc5_ffw.get_weights())(flat1)\n",
    "fc5_rc1 = Dense(1024, activation='relu', name='fc_rc5', trainable=True)(fc5_ff1)\n",
    "fc5_mrg1 = Add()([fc5_ff1, fc5_rc1])\n",
    "bn5 = BatchNormalization(axis=-1, momentum=0.99, epsilon=0.001, name='bn_5')(fc5_mrg1)\n",
    "fc6_ff1 = Dense(256, activation='relu', name='fc_ff6', trainable=False, weights=fc6_ffw.get_weights())(bn5)\n",
    "fc6_rc1 = Dense(256, activation='relu', name='fc_rc6', trainable=True)(fc6_ff1)\n",
    "fc6_mrg1 = Add()([fc6_ff1, fc6_rc1])\n",
    "bn6 = BatchNormalization(axis=-1, momentum=0.99, epsilon=0.001, name='bn_6')(fc6_mrg1)\n",
    "fc7_ff1 = Dense(10, activation='linear', name='fc_ff7', trainable=False, weights=fc7_ffw.get_weights())(bn6)\n",
    "fc7_rc1 = Dense(10, activation='linear', name='fc_rc7', trainable=True)(fc7_ff1)\n",
    "fc7_mrg1 = Add()([fc7_ff1, fc7_rc1])\n",
    "output_layer = Activation('softmax')(fc7_mrg1)\n",
    "\n",
    "\n"
   ]
  },
  {
   "cell_type": "code",
   "execution_count": 25,
   "metadata": {},
   "outputs": [
    {
     "name": "stdout",
     "output_type": "stream",
     "text": [
      "____________________________________________________________________________________________________\n",
      "Layer (type)                     Output Shape          Param #     Connected to                     \n",
      "====================================================================================================\n",
      "input (InputLayer)               (None, 32, 32, 3)     0                                            \n",
      "____________________________________________________________________________________________________\n",
      "conv_ff1 (Conv2D)                (None, 32, 32, 64)    1792        input[0][0]                      \n",
      "____________________________________________________________________________________________________\n",
      "conv_rc1 (Conv2D)                (None, 32, 32, 64)    36928       conv_ff1[0][0]                   \n",
      "____________________________________________________________________________________________________\n",
      "add_33 (Add)                     (None, 32, 32, 64)    0           conv_ff1[0][0]                   \n",
      "                                                                   conv_rc1[0][0]                   \n",
      "____________________________________________________________________________________________________\n",
      "bn_1 (BatchNormalization)        (None, 32, 32, 64)    256         add_33[0][0]                     \n",
      "____________________________________________________________________________________________________\n",
      "pool_1 (MaxPooling2D)            (None, 16, 16, 64)    0           bn_1[0][0]                       \n",
      "____________________________________________________________________________________________________\n",
      "conv_ff2 (Conv2D)                (None, 16, 16, 128)   73856       pool_1[0][0]                     \n",
      "____________________________________________________________________________________________________\n",
      "conv_rc2 (Conv2D)                (None, 16, 16, 128)   147584      conv_ff2[0][0]                   \n",
      "____________________________________________________________________________________________________\n",
      "add_34 (Add)                     (None, 16, 16, 128)   0           conv_ff2[0][0]                   \n",
      "                                                                   conv_rc2[0][0]                   \n",
      "____________________________________________________________________________________________________\n",
      "bn_2 (BatchNormalization)        (None, 16, 16, 128)   512         add_34[0][0]                     \n",
      "____________________________________________________________________________________________________\n",
      "pool_2 (MaxPooling2D)            (None, 8, 8, 128)     0           bn_2[0][0]                       \n",
      "____________________________________________________________________________________________________\n",
      "conv_ff3 (Conv2D)                (None, 8, 8, 256)     295168      pool_2[0][0]                     \n",
      "____________________________________________________________________________________________________\n",
      "conv_rc3 (Conv2D)                (None, 8, 8, 256)     590080      conv_ff3[0][0]                   \n",
      "____________________________________________________________________________________________________\n",
      "add_35 (Add)                     (None, 8, 8, 256)     0           conv_ff3[0][0]                   \n",
      "                                                                   conv_rc3[0][0]                   \n",
      "____________________________________________________________________________________________________\n",
      "bn_3 (BatchNormalization)        (None, 8, 8, 256)     1024        add_35[0][0]                     \n",
      "____________________________________________________________________________________________________\n",
      "pool3 (MaxPooling2D)             (None, 4, 4, 256)     0           bn_3[0][0]                       \n",
      "____________________________________________________________________________________________________\n",
      "conv_ff4 (Conv2D)                (None, 1, 1, 1024)    4195328     pool3[0][0]                      \n",
      "____________________________________________________________________________________________________\n",
      "conv_rc4 (Conv2D)                (None, 1, 1, 1024)    1049600     conv_ff4[0][0]                   \n",
      "____________________________________________________________________________________________________\n",
      "add_36 (Add)                     (None, 1, 1, 1024)    0           conv_ff4[0][0]                   \n",
      "                                                                   conv_rc4[0][0]                   \n",
      "____________________________________________________________________________________________________\n",
      "bn_4 (BatchNormalization)        (None, 1, 1, 1024)    4096        add_36[0][0]                     \n",
      "____________________________________________________________________________________________________\n",
      "flat_1 (Flatten)                 (None, 1024)          0           bn_4[0][0]                       \n",
      "____________________________________________________________________________________________________\n",
      "fc_ff5 (Dense)                   (None, 1024)          1049600     flat_1[0][0]                     \n",
      "____________________________________________________________________________________________________\n",
      "fc_rc5 (Dense)                   (None, 1024)          1049600     fc_ff5[0][0]                     \n",
      "____________________________________________________________________________________________________\n",
      "add_37 (Add)                     (None, 1024)          0           fc_ff5[0][0]                     \n",
      "                                                                   fc_rc5[0][0]                     \n",
      "____________________________________________________________________________________________________\n",
      "bn_5 (BatchNormalization)        (None, 1024)          4096        add_37[0][0]                     \n",
      "____________________________________________________________________________________________________\n",
      "fc_ff6 (Dense)                   (None, 256)           262400      bn_5[0][0]                       \n",
      "____________________________________________________________________________________________________\n",
      "fc_rc6 (Dense)                   (None, 256)           65792       fc_ff6[0][0]                     \n",
      "____________________________________________________________________________________________________\n",
      "add_38 (Add)                     (None, 256)           0           fc_ff6[0][0]                     \n",
      "                                                                   fc_rc6[0][0]                     \n",
      "____________________________________________________________________________________________________\n",
      "bn_6 (BatchNormalization)        (None, 256)           1024        add_38[0][0]                     \n",
      "____________________________________________________________________________________________________\n",
      "fc_ff7 (Dense)                   (None, 10)            2570        bn_6[0][0]                       \n",
      "____________________________________________________________________________________________________\n",
      "fc_rc7 (Dense)                   (None, 10)            110         fc_ff7[0][0]                     \n",
      "____________________________________________________________________________________________________\n",
      "add_39 (Add)                     (None, 10)            0           fc_ff7[0][0]                     \n",
      "                                                                   fc_rc7[0][0]                     \n",
      "____________________________________________________________________________________________________\n",
      "activation_5 (Activation)        (None, 10)            0           add_39[0][0]                     \n",
      "====================================================================================================\n",
      "Total params: 8,831,416\n",
      "Trainable params: 2,945,198\n",
      "Non-trainable params: 5,886,218\n",
      "____________________________________________________________________________________________________\n"
     ]
    }
   ],
   "source": [
    "sgd = optimizers.SGD(lr=2, decay=1e-6, momentum=0.9)\n",
    "model = Model(input_layer, output_layer)\n",
    "# pmodel = multi_gpu_model(model)\n",
    "model.compile(loss='categorical_crossentropy', optimizer='sgd', metrics=['accuracy'])\n",
    "model.summary()"
   ]
  },
  {
   "cell_type": "code",
   "execution_count": 26,
   "metadata": {},
   "outputs": [
    {
     "name": "stdout",
     "output_type": "stream",
     "text": [
      "(50000, 32, 32, 3)\n",
      "(50000, 1)\n",
      "min: 0.0\n",
      "max: 1.0\n"
     ]
    }
   ],
   "source": [
    "print (x_train.shape)\n",
    "print (y_train.shape)\n",
    "\n",
    "# scale intensities between 0 and 1\n",
    "x_train = x_train.astype('float32') / 255.\n",
    "x_test = x_test.astype('float32') / 255.\n",
    "\n",
    "print('min:', x_train[0].min())\n",
    "print('max:', x_train[0].max())\n"
   ]
  },
  {
   "cell_type": "code",
   "execution_count": 27,
   "metadata": {},
   "outputs": [
    {
     "name": "stdout",
     "output_type": "stream",
     "text": [
      "Epoch 1/5\n",
      "50000/50000 [==============================] - 185s - loss: 1.1581 - acc: 0.6117   \n",
      "Epoch 2/5\n",
      "50000/50000 [==============================] - 183s - loss: 0.9922 - acc: 0.6668   \n",
      "Epoch 3/5\n",
      "50000/50000 [==============================] - 183s - loss: 0.9512 - acc: 0.6789   \n",
      "Epoch 4/5\n",
      "50000/50000 [==============================] - 183s - loss: 0.9213 - acc: 0.6922   \n",
      "Epoch 5/5\n",
      "50000/50000 [==============================] - 184s - loss: 0.8884 - acc: 0.7036   \n",
      "\n",
      "[Train parameters]\n",
      "metrics: ['loss', 'acc']\n",
      "samples: 50000\n",
      "batch_size: 4\n",
      "epochs: 5\n",
      "do_validation: False\n",
      "verbose: 1\n",
      "\n",
      "[Model evaluation]\n",
      "test loss 0.8388\n",
      "test acc 0.7265\n"
     ]
    }
   ],
   "source": [
    "n_epochs = 5\n",
    "n_batch_size = 4\n",
    "labels_train = keras.utils.to_categorical(y_train, n_out)\n",
    "labels_test = keras.utils.to_categorical(y_test, n_out)\n",
    "\n",
    "\n",
    "history = model.fit(x_train, labels_train,\n",
    "                    epochs=n_epochs,\n",
    "                    batch_size=n_batch_size)\n",
    "\n",
    "evaluation = model.evaluate(x_test, labels_test, verbose=0)\n",
    "\n",
    "print('\\n[Train parameters]')\n",
    "for item in history.params:\n",
    "    print(item+':', history.params[item])\n",
    "    \n",
    "print('\\n[Model evaluation]')\n",
    "print('test', history.params['metrics'][0], format(np.mean(evaluation[0]), '.4f'))\n",
    "print('test', history.params['metrics'][1], format(np.mean(evaluation[1]), '.4f'))"
   ]
  },
  {
   "cell_type": "code",
   "execution_count": 28,
   "metadata": {
    "collapsed": true
   },
   "outputs": [],
   "source": [
    "model.save('cifar_recurrentcomplex_180712.h5')"
   ]
  },
  {
   "cell_type": "code",
   "execution_count": 7,
   "metadata": {},
   "outputs": [
    {
     "ename": "TypeError",
     "evalue": "object of type 'int' has no len()",
     "output_type": "error",
     "traceback": [
      "\u001b[1;31m---------------------------------------------------------------------------\u001b[0m",
      "\u001b[1;31mTypeError\u001b[0m                                 Traceback (most recent call last)",
      "\u001b[1;32m<ipython-input-7-ca4394c1d0b0>\u001b[0m in \u001b[0;36m<module>\u001b[1;34m()\u001b[0m\n\u001b[1;32m----> 1\u001b[1;33m \u001b[0mconv1_ffw\u001b[0m\u001b[1;33m.\u001b[0m\u001b[0mset_weights\u001b[0m\u001b[1;33m(\u001b[0m\u001b[1;36m1\u001b[0m\u001b[1;33m)\u001b[0m\u001b[1;33m\u001b[0m\u001b[0m\n\u001b[0m",
      "\u001b[1;32m/home/python/2.7/lib/python2.7/site-packages/keras/engine/topology.pyc\u001b[0m in \u001b[0;36mset_weights\u001b[1;34m(self, weights)\u001b[0m\n\u001b[0;32m   1170\u001b[0m         \"\"\"\n\u001b[0;32m   1171\u001b[0m         \u001b[0mparams\u001b[0m \u001b[1;33m=\u001b[0m \u001b[0mself\u001b[0m\u001b[1;33m.\u001b[0m\u001b[0mweights\u001b[0m\u001b[1;33m\u001b[0m\u001b[0m\n\u001b[1;32m-> 1172\u001b[1;33m         \u001b[1;32mif\u001b[0m \u001b[0mlen\u001b[0m\u001b[1;33m(\u001b[0m\u001b[0mparams\u001b[0m\u001b[1;33m)\u001b[0m \u001b[1;33m!=\u001b[0m \u001b[0mlen\u001b[0m\u001b[1;33m(\u001b[0m\u001b[0mweights\u001b[0m\u001b[1;33m)\u001b[0m\u001b[1;33m:\u001b[0m\u001b[1;33m\u001b[0m\u001b[0m\n\u001b[0m\u001b[0;32m   1173\u001b[0m             raise ValueError('You called `set_weights(weights)` on layer \"' +\n\u001b[0;32m   1174\u001b[0m                              \u001b[0mself\u001b[0m\u001b[1;33m.\u001b[0m\u001b[0mname\u001b[0m \u001b[1;33m+\u001b[0m\u001b[1;33m\u001b[0m\u001b[0m\n",
      "\u001b[1;31mTypeError\u001b[0m: object of type 'int' has no len()"
     ]
    }
   ],
   "source": [
    "# Playground\n",
    "conv1_ffw.set_weights(1)"
   ]
  },
  {
   "cell_type": "code",
   "execution_count": null,
   "metadata": {
    "collapsed": true
   },
   "outputs": [],
   "source": []
  }
 ],
 "metadata": {
  "kernelspec": {
   "display_name": "Python 3",
   "language": "python",
   "name": "python3"
  },
  "language_info": {
   "codemirror_mode": {
    "name": "ipython",
    "version": 3
   },
   "file_extension": ".py",
   "mimetype": "text/x-python",
   "name": "python",
   "nbconvert_exporter": "python",
   "pygments_lexer": "ipython3",
   "version": "3.5.4"
  }
 },
 "nbformat": 4,
 "nbformat_minor": 1
}
